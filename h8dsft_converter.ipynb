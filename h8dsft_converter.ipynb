{
 "cells": [
  {
   "cell_type": "code",
   "execution_count": null,
   "metadata": {},
   "outputs": [],
   "source": [
    "def k_to_c(temp_in):                #define new function to convert from Kelvin to Celsius, required argument is the temperature in Kelvin\n",
    "    temp_out=temp_in-273.15         #process temperature in Kelvin into Celsius\n",
    "    return temp_out                 #return temperature in Celsius\n",
    "\n",
    "def c_to_k(temp_in):                #define new function to convert from Celsius to Kelvin, required argument is the temperature in Celsius\n",
    "    temp_out=temp_in+273.15         #process temperature in Celsius into Kelvin\n",
    "    return temp_out                 #return temperature in Kelvin\n",
    "\n",
    "def t_to_f(orig,temp_in):           #define new function to convert from Celsius or Kelvin to Fahrenheit, required argument is the origin unit and temperature in Celsius or Fahrenheit\n",
    "    if orig == 1:                   #if origin unit is from Kelvin, an adjustment is needed\n",
    "        temp_in=k_to_c(temp_in)     #process temperature in Kelvin into Celsius\n",
    "    temp_out=temp_in/5*9+32         #process temperature in Celsius into Fahrenheit\n",
    "    return temp_out                 #return temperature in Fahrenheit\n",
    "\n",
    "def f_to_t(target,temp_in):         #define new function to convert from Fahrenheit to Celsius or Kelvin, required argument is the target unit and temperature in Fahrenheit\n",
    "    temp_out=(temp_in-32)/9*5       #process temperature in Fahrenheit into Celsius\n",
    "    if target == 1:                 #if target unit is to Kelvin, an adjustment is needed\n",
    "        temp_out=c_to_k(temp_out)   #process temperature in Celsius into Kelvin\n",
    "    return target, temp_out         #return target unit and temperature in Celsius or Kelvin\n",
    "\n"
   ]
  }
 ],
 "metadata": {
  "kernelspec": {
   "display_name": "Python 3.9.12 ('base')",
   "language": "python",
   "name": "python3"
  },
  "language_info": {
   "codemirror_mode": {
    "name": "ipython",
    "version": 3
   },
   "file_extension": ".py",
   "mimetype": "text/x-python",
   "name": "python",
   "nbconvert_exporter": "python",
   "pygments_lexer": "ipython3",
   "version": "3.9.12"
  },
  "orig_nbformat": 4,
  "vscode": {
   "interpreter": {
    "hash": "8729cc833bbf327f7266d01ded31405701701a7d3e257bb9fce582aaef9de1ab"
   }
  }
 },
 "nbformat": 4,
 "nbformat_minor": 2
}
