{
 "cells": [
  {
   "cell_type": "code",
   "execution_count": 3,
   "metadata": {},
   "outputs": [
    {
     "name": "stdout",
     "output_type": "stream",
     "text": [
      "Values inside the function:  [10, 20, 30, [1, 2, 3, 4]]\n",
      "Values outside the function:  [10, 20, 30, [1, 2, 3, 4]]\n"
     ]
    }
   ],
   "source": [
    "# Function definition is here\n",
    "def changeme( mylist ):   \n",
    "    \"This changes a passed list into this function\"   \n",
    "    mylist.append([1,2,3,4])   \n",
    "    print(\"Values inside the function: \", mylist)   \n",
    "    #return\n",
    "\n",
    "# Now you can call changeme function\n",
    "mylist = [10,20,30];\n",
    "changeme( mylist );\n",
    "print(\"Values outside the function: \", mylist)"
   ]
  },
  {
   "cell_type": "code",
   "execution_count": 10,
   "metadata": {},
   "outputs": [
    {
     "name": "stdout",
     "output_type": "stream",
     "text": [
      "<class 'tuple'>\n"
     ]
    }
   ],
   "source": [
    "def test (*var):\n",
    "    args = var\n",
    "    print(type(args))\n",
    "\n",
    "test(1,2,3,4,5)"
   ]
  },
  {
   "cell_type": "code",
   "execution_count": 5,
   "metadata": {},
   "outputs": [
    {
     "name": "stdout",
     "output_type": "stream",
     "text": [
      "\n"
     ]
    }
   ],
   "source": [
    "#a=\"\"\"\n",
    "#text\n",
    "#text\n",
    "#text\n",
    "#\"\"\"\n",
    "#print(a)\n",
    "\n",
    "def convert()\n",
    "\n",
    "input=str(input(''))\n",
    "print(input)"
   ]
  },
  {
   "cell_type": "code",
   "execution_count": 15,
   "metadata": {},
   "outputs": [
    {
     "name": "stdout",
     "output_type": "stream",
     "text": [
      "true\n"
     ]
    }
   ],
   "source": [
    "a=1\n",
    "b=[0,1,2]\n",
    "\n",
    "if type(a)== float or int:\n",
    "    print('true')\n",
    "else:\n",
    "    print('false')"
   ]
  },
  {
   "cell_type": "code",
   "execution_count": 1,
   "metadata": {},
   "outputs": [
    {
     "ename": "SyntaxError",
     "evalue": "invalid syntax (2836634729.py, line 14)",
     "output_type": "error",
     "traceback": [
      "\u001b[1;36m  Input \u001b[1;32mIn [1]\u001b[1;36m\u001b[0m\n\u001b[1;33m    you are converting from {origin}\u001b[0m\n\u001b[1;37m        ^\u001b[0m\n\u001b[1;31mSyntaxError\u001b[0m\u001b[1;31m:\u001b[0m invalid syntax\n"
     ]
    }
   ],
   "source": [
    "origin_input = str\n",
    "target_input = str\n",
    "valid_input_kelvin = ['1','k','K','1k','1K','1 k','1 K','1. k','1. K','kelvin','Kelvin']\n",
    "valid_input_celsius = ['2','c','C','2c','2K','2 c','2 C','2. c','2. C','celsius','Celsius']\n",
    "valid_input_fahrenheit = ['3','f','F','3f','3F','3 f','3 F','3. f','3. F','fahrenheit','Fahrenheit']\n",
    "origin = str\n",
    "target = str\n",
    "\n",
    "while origin_input!=(valid_input):\n",
    "  print(\"\"\"\n",
    "  Convert from: \n",
    "  1. K \n",
    "  2. °C\n",
    "  3. °F\n",
    "\n",
    "  \"\"\"))\n",
    "  origin_input=int(input())\n",
    "  if origin_input!=(valid_input):\n",
    "    print('')\n",
    "    print('Invalid input')\n",
    "\n",
    "if origin_input in valid_input_kelvin:\n",
    "  origin = 'Kelvin'\n",
    "elif origin_input in valid_input_celsius:\n",
    "  origin = 'degree Celsius'\n",
    "elif origin_input in valid_input_fahrenheit:\n",
    "  origin = 'degree Fahrenheit'\n",
    "\n",
    "while target_input!=(valid_input):\n",
    "  print(str\"\"\"\n",
    "  You are converting from {origin} .\n",
    "  Convert into: \n",
    "  1. K \n",
    "  2. °C\n",
    "  3. °F\n",
    "  \"\"\"))\n",
    "  target_input=int(input())\n",
    "  if target_input!=(valid_input):\n",
    "    print('')\n",
    "    print('Invalid input')\n",
    "\n",
    "if target_input in valid_input_kelvin:\n",
    "  target = 'Kelvin'\n",
    "elif target_input in valid_input_celsius:\n",
    "  target = 'degree Celsius'\n",
    "elif target_input in valid_input_fahrenheit:\n",
    "  target = 'degree Fahrenheit'"
   ]
  },
  {
   "cell_type": "code",
   "execution_count": 18,
   "metadata": {},
   "outputs": [],
   "source": [
    "orig=int(input('1 \\n 2'))"
   ]
  },
  {
   "cell_type": "code",
   "execution_count": 1,
   "metadata": {},
   "outputs": [],
   "source": [
    "def k_to_c():\n",
    "    k=float(input('Enter temperature value: '))\n",
    "    c=k-273.15\n",
    "    #print(f'Temperature in Kelvin is ', k)\n",
    "    return c\n",
    "\n",
    "def c_to_k(c):\n",
    "    c=float(input('Enter temperature value: '))\n",
    "    k=c+273.15\n",
    "    #print(f'Temperature in degree Celsius is ', k)\n",
    "\n",
    "def t_to_f():\n",
    "    orig = str\n",
    "    print('Convert from Kelvin -> input [1]')\n",
    "    print('Convert from degree Celsius -> input [2]')\n",
    "    while orig!=('1' or '2'):\n",
    "        orig=str(input('\\n'))\n",
    "        if orig!=('1' or '2'):\n",
    "            print('invalid input \\n')\n",
    "    if orig==1:\n",
    "        c=k_to_c()\n",
    "    else:\n",
    "        c=float(input('Enter temperature value: '))\n",
    "    f=c/5*9+32\n",
    "    print(f'Temperature in degree Fahrenheit is ', f)\n"
   ]
  },
  {
   "cell_type": "code",
   "execution_count": null,
   "metadata": {},
   "outputs": [
    {
     "name": "stdout",
     "output_type": "stream",
     "text": [
      "Convert from Kelvin -> input [1]\n",
      "Convert from degree Celsius -> input [2]\n",
      "invalid input \n",
      "\n",
      "invalid input \n",
      "\n"
     ]
    },
    {
     "ename": "",
     "evalue": "",
     "output_type": "error",
     "traceback": [
      "\u001b[1;31mCanceled future for execute_request message before replies were done"
     ]
    },
    {
     "ename": "",
     "evalue": "",
     "output_type": "error",
     "traceback": [
      "The Kernel crashed while executing code in the the current cell or a previous cell. Please review the code in the cell(s) to identify a possible cause of the failure. Click <a href='https://aka.ms/vscodeJupyterKernelCrash'>here</a> for more info. View Jupyter <a href='command:jupyter.viewOutput'>log</a> for further details."
     ]
    }
   ],
   "source": [
    "t_to_f()"
   ]
  },
  {
   "cell_type": "code",
   "execution_count": 6,
   "metadata": {},
   "outputs": [
    {
     "data": {
      "text/plain": [
       "-40.0"
      ]
     },
     "execution_count": 6,
     "metadata": {},
     "output_type": "execute_result"
    }
   ],
   "source": [
    "c=-40\n",
    "f=-40\n",
    "#f=c/5*9+32\n",
    "#f\n",
    "c=(f-32)/9*5\n",
    "c"
   ]
  },
  {
   "cell_type": "code",
   "execution_count": null,
   "metadata": {},
   "outputs": [],
   "source": [
    "def k_to_c(temp_in):                #define new function to convert from Kelvin to Celsius, required argument is the temperature in Kelvin\n",
    "    temp_out=temp_in-273.15         #process temperature in Kelvin into Celsius\n",
    "    return temp_out                 #return temperature in Celsius\n",
    "\n",
    "def c_to_k(temp_in):                #define new function to convert from Celsius to Kelvin, required argument is the temperature in Celsius\n",
    "    temp_out=temp_in+273.15         #process temperature in Celsius into Kelvin\n",
    "    return temp_out                 #return temperature in Kelvin\n",
    "\n",
    "def t_to_f(orig,temp_in):           #define new function to convert from Celsius or Kelvin to Fahrenheit, required argument is the origin unit and temperature in Celsius or Fahrenheit\n",
    "    if orig == 1:                   #if origin unit is from Kelvin, an adjustment is needed\n",
    "        temp_in=k_to_c(temp_in)     #process temperature in Kelvin into Celsius\n",
    "    temp_out=temp_in/5*9+32         #process temperature in Celsius into Fahrenheit\n",
    "    return temp_out                 #return temperature in Fahrenheit\n",
    "\n",
    "def f_to_t(target,temp_in):         #define new function to convert from Fahrenheit to Celsius or Kelvin, required argument is the target unit and temperature in Fahrenheit\n",
    "    temp_out=(temp_in-32)/9*5       #process temperature in Fahrenheit into Celsius\n",
    "    if target == 1:                 #if target unit is to Kelvin, an adjustment is needed\n",
    "        temp_out=c_to_k(temp_out)   #process temperature in Celsius into Kelvin\n",
    "    return target, temp_out         #return target unit and temperature in Celsius or Kelvin\n",
    "\n"
   ]
  },
  {
   "cell_type": "code",
   "execution_count": 4,
   "metadata": {},
   "outputs": [
    {
     "name": "stdout",
     "output_type": "stream",
     "text": [
      "true\n"
     ]
    }
   ],
   "source": [
    "a=1\n",
    "b='1'\n",
    "\n",
    "if a==1:\n",
    "    print('true')"
   ]
  }
 ],
 "metadata": {
  "kernelspec": {
   "display_name": "Python 3.9.12 ('base')",
   "language": "python",
   "name": "python3"
  },
  "language_info": {
   "codemirror_mode": {
    "name": "ipython",
    "version": 3
   },
   "file_extension": ".py",
   "mimetype": "text/x-python",
   "name": "python",
   "nbconvert_exporter": "python",
   "pygments_lexer": "ipython3",
   "version": "3.9.12"
  },
  "orig_nbformat": 4,
  "vscode": {
   "interpreter": {
    "hash": "8729cc833bbf327f7266d01ded31405701701a7d3e257bb9fce582aaef9de1ab"
   }
  }
 },
 "nbformat": 4,
 "nbformat_minor": 2
}
